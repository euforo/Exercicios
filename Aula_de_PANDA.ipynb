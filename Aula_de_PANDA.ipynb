{
  "nbformat": 4,
  "nbformat_minor": 0,
  "metadata": {
    "colab": {
      "name": "Aula de PANDA.ipynb",
      "provenance": [],
      "mount_file_id": "1Y9AeHGNHI71EdmQgwaJ1aDrxw8_kl3yj",
      "authorship_tag": "ABX9TyMAET0AeUXRm4WpTk9TkCx4",
      "include_colab_link": true
    },
    "kernelspec": {
      "name": "python3",
      "display_name": "Python 3"
    },
    "language_info": {
      "name": "python"
    }
  },
  "cells": [
    {
      "cell_type": "markdown",
      "metadata": {
        "id": "view-in-github",
        "colab_type": "text"
      },
      "source": [
        "<a href=\"https://colab.research.google.com/github/euforo/Exercicios/blob/main/Aula_de_PANDA.ipynb\" target=\"_parent\"><img src=\"https://colab.research.google.com/assets/colab-badge.svg\" alt=\"Open In Colab\"/></a>"
      ]
    },
    {
      "cell_type": "markdown",
      "metadata": {
        "id": "stBVMI_GrXlx"
      },
      "source": [
        "# Aula de Pandas\n",
        ":Conteúdos:\n",
        "https://youtu.be/wnGsAOPKjLo\n",
        "https://pandas.pydata.org/\n",
        "https://pandas.pydata.org/pandas-docs/stable/user_guide/10min.html\n",
        "\n",
        "\n"
      ]
    },
    {
      "cell_type": "code",
      "metadata": {
        "colab": {
          "base_uri": "https://localhost:8080/"
        },
        "id": "SO5kXtcQrQVb",
        "outputId": "5879ca66-bda0-456f-e444-a62590749b3c"
      },
      "source": [
        "!pip install pandas"
      ],
      "execution_count": null,
      "outputs": [
        {
          "output_type": "stream",
          "name": "stdout",
          "text": [
            "Requirement already satisfied: pandas in /usr/local/lib/python3.7/dist-packages (1.1.5)\n",
            "Requirement already satisfied: pytz>=2017.2 in /usr/local/lib/python3.7/dist-packages (from pandas) (2018.9)\n",
            "Requirement already satisfied: numpy>=1.15.4 in /usr/local/lib/python3.7/dist-packages (from pandas) (1.19.5)\n",
            "Requirement already satisfied: python-dateutil>=2.7.3 in /usr/local/lib/python3.7/dist-packages (from pandas) (2.8.2)\n",
            "Requirement already satisfied: six>=1.5 in /usr/local/lib/python3.7/dist-packages (from python-dateutil>=2.7.3->pandas) (1.15.0)\n"
          ]
        }
      ]
    },
    {
      "cell_type": "code",
      "metadata": {
        "id": "aiy-pct_suHY",
        "colab": {
          "base_uri": "https://localhost:8080/",
          "height": 35
        },
        "outputId": "e09dabf5-0ad0-4345-92c2-11b2b1a1e86b"
      },
      "source": [
        "import pandas\n",
        "\n",
        "pandas.__version__\n"
      ],
      "execution_count": null,
      "outputs": [
        {
          "output_type": "execute_result",
          "data": {
            "application/vnd.google.colaboratory.intrinsic+json": {
              "type": "string"
            },
            "text/plain": [
              "'1.1.5'"
            ]
          },
          "metadata": {},
          "execution_count": 2
        }
      ]
    },
    {
      "cell_type": "markdown",
      "metadata": {
        "id": "aVKdjQr_9qJn"
      },
      "source": [
        "#Conveção de importação\n",
        "Cada pacote tem uma sigla para importar, o padrão utilizado nesse caso é pd (panda)\n",
        "\n",
        "**** CASO QUEIRA VER ALGUMA INFORMAÇÃO SOBRE UM METODO OU ALGO DO TIPO COLOQUE METODO E ? NO FINAL"
      ]
    },
    {
      "cell_type": "code",
      "metadata": {
        "id": "r72xzYBP99HK"
      },
      "source": [
        "import pandas as pd\n",
        "pd.read_csv?\n"
      ],
      "execution_count": 7,
      "outputs": []
    },
    {
      "cell_type": "markdown",
      "metadata": {
        "id": "qqlGFC04_RSv"
      },
      "source": [
        "#SERIES\n",
        "séries é uma matriz rotulada unidimensional capaz de conter qualquer tipo de dados (int,string,bol,float,objetos e etc) \n",
        "os rótulos dos eixos são chamados colectivamente de índice. O metodo básico para criar uma série é:"
      ]
    },
    {
      "cell_type": "code",
      "metadata": {
        "id": "VRI4boFd-U47"
      },
      "source": [
        "s1 = pd.Series(['s','a','l','v','e'], index =[1,2,3,4,5],name ='Random')\n",
        "s2 = pd.Series(['s','a','l','v','e'], index =[1,2,3,4,5],name ='Random')"
      ],
      "execution_count": 14,
      "outputs": []
    },
    {
      "cell_type": "markdown",
      "metadata": {
        "id": "hpOc259LAAFC"
      },
      "source": [
        "#DATA FRAME\n",
        "DataFrame é uma estrutura de dados rotulada bidimensional, com colunas de tipos potencialmente diferentes, voce pode pensar nisso como uma tabela sql ou um dicionário de objetos Séries, geralmente é o objeto pandas mais comumente usado, como o series o datafreame aceita muito tipos diferentes de entrada\n",
        "\n",
        "\n",
        "\n",
        "*   Dict of 1D ndarrays, listas, dicts ou Series\n",
        "*   2-D numpy.ndarray\n",
        "*   Ndarray estruturado ou de registro\n",
        "*   UMA Series\n",
        "*   Outro DataFrame"
      ]
    },
    {
      "cell_type": "code",
      "metadata": {
        "colab": {
          "base_uri": "https://localhost:8080/",
          "height": 205
        },
        "id": "_IGV-rAqAHsi",
        "outputId": "7f6109a7-4504-42c8-9036-971a2c30b3a6"
      },
      "source": [
        "pd.DataFrame(s1)"
      ],
      "execution_count": 16,
      "outputs": [
        {
          "output_type": "execute_result",
          "data": {
            "text/html": [
              "<div>\n",
              "<style scoped>\n",
              "    .dataframe tbody tr th:only-of-type {\n",
              "        vertical-align: middle;\n",
              "    }\n",
              "\n",
              "    .dataframe tbody tr th {\n",
              "        vertical-align: top;\n",
              "    }\n",
              "\n",
              "    .dataframe thead th {\n",
              "        text-align: right;\n",
              "    }\n",
              "</style>\n",
              "<table border=\"1\" class=\"dataframe\">\n",
              "  <thead>\n",
              "    <tr style=\"text-align: right;\">\n",
              "      <th></th>\n",
              "      <th>Random</th>\n",
              "    </tr>\n",
              "  </thead>\n",
              "  <tbody>\n",
              "    <tr>\n",
              "      <th>1</th>\n",
              "      <td>s</td>\n",
              "    </tr>\n",
              "    <tr>\n",
              "      <th>2</th>\n",
              "      <td>a</td>\n",
              "    </tr>\n",
              "    <tr>\n",
              "      <th>3</th>\n",
              "      <td>l</td>\n",
              "    </tr>\n",
              "    <tr>\n",
              "      <th>4</th>\n",
              "      <td>v</td>\n",
              "    </tr>\n",
              "    <tr>\n",
              "      <th>5</th>\n",
              "      <td>e</td>\n",
              "    </tr>\n",
              "  </tbody>\n",
              "</table>\n",
              "</div>"
            ],
            "text/plain": [
              "  Random\n",
              "1      s\n",
              "2      a\n",
              "3      l\n",
              "4      v\n",
              "5      e"
            ]
          },
          "metadata": {},
          "execution_count": 16
        }
      ]
    },
    {
      "cell_type": "markdown",
      "metadata": {
        "id": "lr_TPrreDLa-"
      },
      "source": [
        "# Vizualizando Dados\n",
        "\n",
        "\n",
        "* head\n",
        "* tail\n",
        "* index\n",
        "* columns\n",
        "* describe\n",
        "* transposta\n"
      ]
    },
    {
      "cell_type": "code",
      "metadata": {
        "id": "SblNg6ZsEAkm"
      },
      "source": [
        "pd.read_csv"
      ],
      "execution_count": null,
      "outputs": []
    }
  ]
}